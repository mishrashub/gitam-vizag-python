{
 "cells": [
  {
   "cell_type": "markdown",
   "metadata": {},
   "source": [
    "# Python Programming and markdown\n",
    "## Python Programming and markdown\n",
    "### Python Programming and markdown\n",
    "#### Python Programming and markdown\n",
    "##### Python Programming and markdown\n",
    "###### Python Programming and markdown"
   ]
  },
  {
   "cell_type": "markdown",
   "metadata": {},
   "source": [
    "- point 1\n",
    "    - subpoint1\n",
    "    \n",
    "- point 2 \n",
    "    - sunpoint1\n",
    "    "
   ]
  },
  {
   "cell_type": "markdown",
   "metadata": {},
   "source": [
    "* **python**"
   ]
  },
  {
   "cell_type": "markdown",
   "metadata": {},
   "source": [
    "* *python*\n",
    "* ***python***"
   ]
  },
  {
   "cell_type": "markdown",
   "metadata": {},
   "source": [
    "<img src='Python.png'>\n"
   ]
  },
  {
   "cell_type": "markdown",
   "metadata": {},
   "source": [
    "### Adding link to markdown\n",
    "!.[google](https://www.google.com/search?q=download+images+python&rlz=1C1OKWM_enIN851IN851&sxsrf=ACYBGNS2d8o-3ojY6a6eXotMOFhuGZBggw:1568624704446&source=lnms&tbm=isch&sa=X&ved=0ahUKEwiOlq2y_tTkAhWu63MBHfufDWUQ_AUIFCgD&biw=1093&bih=526#imgrc=2Vkpu19-dP_aYM:)"
   ]
  },
  {
   "cell_type": "code",
   "execution_count": 2,
   "metadata": {},
   "outputs": [
    {
     "name": "stdout",
     "output_type": "stream",
     "text": [
      "hello gitam\n"
     ]
    }
   ],
   "source": [
    "print(\"hello gitam\")"
   ]
  },
  {
   "cell_type": "markdown",
   "metadata": {},
   "source": [
    "![text](https://www.google.com/search?q=download+images+python&rlz=1C1OKWM_enIN851IN851&sxsrf=ACYBGNS2d8o-3ojY6a6eXotMOFhuGZBggw:1568624704446&source=lnms&tbm=isch&sa=X&ved=0ahUKEwiOlq2y_tTkAhWu63MBHfufDWUQ_AUIFCgD&biw=1093&bih=526#imgrc=2Vkpu19-dP_aYM:)"
   ]
  },
  {
   "cell_type": "code",
   "execution_count": 6,
   "metadata": {},
   "outputs": [
    {
     "name": "stdout",
     "output_type": "stream",
     "text": [
      "hello gitam\n",
      "hello ||| hello gitam\n"
     ]
    }
   ],
   "source": [
    "print(\"hello gitam\")\n",
    "print (\"hello\",\"|||\",end=\" \")\n",
    "print(\"hello gitam\")\n"
   ]
  },
  {
   "cell_type": "markdown",
   "metadata": {},
   "source": [
    "## Data type conversion\n",
    "- int()\n",
    "- float()\n",
    "- string()"
   ]
  },
  {
   "cell_type": "code",
   "execution_count": 20,
   "metadata": {},
   "outputs": [
    {
     "name": "stdout",
     "output_type": "stream",
     "text": [
      "100.333 <class 'str'>\n",
      "100.333 <class 'float'>\n",
      "100 <class 'int'>\n"
     ]
    }
   ],
   "source": [
    "a1= \"100.333\"\n",
    "print(a1,end=\" \")\n",
    "print(type(a1))\n",
    "a2=float(a1)\n",
    "print(a2,end=\" \")\n",
    "print(type(a2))\n",
    "a3=int(a2)\n",
    "print(a3,end=\" \")\n",
    "print(type(a3))\n"
   ]
  },
  {
   "cell_type": "code",
   "execution_count": null,
   "metadata": {},
   "outputs": [],
   "source": []
  },
  {
   "cell_type": "code",
   "execution_count": 13,
   "metadata": {},
   "outputs": [
    {
     "name": "stdout",
     "output_type": "stream",
     "text": [
      "6\n"
     ]
    }
   ],
   "source": [
    "q=255151\n",
    "print(len(str(q)))"
   ]
  },
  {
   "cell_type": "markdown",
   "metadata": {},
   "source": [
    "## input function\n",
    "- Read the input to the python program\n",
    "- read the input in terms of string"
   ]
  },
  {
   "cell_type": "code",
   "execution_count": 14,
   "metadata": {},
   "outputs": [
    {
     "name": "stdout",
     "output_type": "stream",
     "text": [
      "enter the nameJai Shubham\n",
      "Jai Shubham <class 'str'>\n"
     ]
    }
   ],
   "source": [
    "q1=input('enter the name')\n",
    "print(q1,type(q1))"
   ]
  },
  {
   "cell_type": "code",
   "execution_count": 18,
   "metadata": {},
   "outputs": [
    {
     "name": "stdout",
     "output_type": "stream",
     "text": [
      "enter any number7892578897\n",
      "7892578897 <class 'int'>\n"
     ]
    }
   ],
   "source": [
    "q2= int(input('enter any number'))\n",
    "print(q2,type(q2))"
   ]
  },
  {
   "cell_type": "code",
   "execution_count": 22,
   "metadata": {},
   "outputs": [
    {
     "name": "stdout",
     "output_type": "stream",
     "text": [
      "8.0\n"
     ]
    }
   ],
   "source": [
    "# preceding levels of operator \n",
    "# Power,Division, Addition\n",
    "x= 1 + 2 ** 3 / 4 + 5\n",
    "print(x)"
   ]
  },
  {
   "cell_type": "code",
   "execution_count": 25,
   "metadata": {},
   "outputs": [
    {
     "data": {
      "text/plain": [
       "3.8333333333333335"
      ]
     },
     "execution_count": 25,
     "metadata": {},
     "output_type": "execute_result"
    }
   ],
   "source": [
    "\n",
    "23/6"
   ]
  },
  {
   "cell_type": "code",
   "execution_count": 27,
   "metadata": {},
   "outputs": [
    {
     "data": {
      "text/plain": [
       "3"
      ]
     },
     "execution_count": 27,
     "metadata": {},
     "output_type": "execute_result"
    }
   ],
   "source": [
    "23//6"
   ]
  },
  {
   "cell_type": "markdown",
   "metadata": {},
   "source": [
    "## Logical operator\n",
    "- and\n",
    "- or\n",
    "- not"
   ]
  },
  {
   "cell_type": "code",
   "execution_count": 30,
   "metadata": {},
   "outputs": [
    {
     "name": "stdout",
     "output_type": "stream",
     "text": [
      "True <class 'bool'>\n",
      "False <class 'bool'>\n"
     ]
    }
   ],
   "source": [
    "a=500\n",
    "b=(a>100)and(a>=500)\n",
    "print(b,type(b))\n",
    "c=(a>50)and(a<1)\n",
    "print(c,type(c))"
   ]
  },
  {
   "cell_type": "code",
   "execution_count": 31,
   "metadata": {},
   "outputs": [
    {
     "name": "stdout",
     "output_type": "stream",
     "text": [
      "True <class 'bool'>\n",
      "True <class 'bool'>\n"
     ]
    }
   ],
   "source": [
    "a=500\n",
    "b=(a>100)or(a>=500)\n",
    "print(b,type(b))\n",
    "c=(a>50)or(a<1)\n",
    "print(c,type(c))"
   ]
  },
  {
   "cell_type": "markdown",
   "metadata": {},
   "source": [
    "## control flow statement \n",
    "- if-else\n",
    "###  - **looping statment**\n",
    "- for\n",
    "- while"
   ]
  },
  {
   "cell_type": "code",
   "execution_count": 36,
   "metadata": {},
   "outputs": [
    {
     "name": "stdout",
     "output_type": "stream",
     "text": [
      " 58.5\n",
      "odd\n"
     ]
    }
   ],
   "source": [
    "a1=float(input(\" \"))\n",
    "if a1%2==0:\n",
    "    print(\"even\")\n",
    "else:\n",
    "    print(\"odd\")"
   ]
  },
  {
   "cell_type": "code",
   "execution_count": 51,
   "metadata": {},
   "outputs": [
    {
     "name": "stdout",
     "output_type": "stream",
     "text": [
      " 9\n",
      "odd\n"
     ]
    }
   ],
   "source": [
    "a1=float(input(\" \"))\n",
    "if (a1%2==0)//2:\n",
    "    print(\"even\")\n",
    "else:\n",
    "    print(\"odd\")"
   ]
  },
  {
   "cell_type": "code",
   "execution_count": null,
   "metadata": {},
   "outputs": [],
   "source": []
  },
  {
   "cell_type": "code",
   "execution_count": null,
   "metadata": {},
   "outputs": [],
   "source": []
  }
 ],
 "metadata": {
  "kernelspec": {
   "display_name": "Python 3",
   "language": "python",
   "name": "python3"
  },
  "language_info": {
   "codemirror_mode": {
    "name": "ipython",
    "version": 3
   },
   "file_extension": ".py",
   "mimetype": "text/x-python",
   "name": "python",
   "nbconvert_exporter": "python",
   "pygments_lexer": "ipython3",
   "version": "3.7.3"
  }
 },
 "nbformat": 4,
 "nbformat_minor": 2
}
