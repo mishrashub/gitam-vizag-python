{
 "cells": [
  {
   "cell_type": "markdown",
   "metadata": {},
   "source": [
    "# Programming in python with strings\n",
    "- strings\n",
    "- string silicing\n",
    "- fundamental programs and examples with strings"
   ]
  },
  {
   "cell_type": "code",
   "execution_count": 1,
   "metadata": {},
   "outputs": [
    {
     "name": "stdout",
     "output_type": "stream",
     "text": [
      "python\n",
      "programming\n",
      "abhishek\n",
      "<class 'str'>\n",
      "<class 'str'>\n",
      "<class 'str'>\n"
     ]
    }
   ],
   "source": [
    "s1='python'\n",
    "s2='programming'\n",
    "s3=\"abhishek\"\n",
    "print(s1)\n",
    "print(s2)\n",
    "print(s3)\n",
    "print(type(s1))\n",
    "print(type(s2))\n",
    "print(type(s3))\n"
   ]
  },
  {
   "cell_type": "markdown",
   "metadata": {},
   "source": [
    "# string silicing\n"
   ]
  },
  {
   "cell_type": "code",
   "execution_count": 38,
   "metadata": {},
   "outputs": [
    {
     "name": "stdout",
     "output_type": "stream",
     "text": [
      "12\n",
      "12 m\n",
      "ge\n",
      "tmolg\n"
     ]
    },
    {
     "data": {
      "text/plain": [
       "'egallocmatig'"
      ]
     },
     "execution_count": 38,
     "metadata": {},
     "output_type": "execute_result"
    }
   ],
   "source": [
    "s1= 'gitamcollage'\n",
    "s1[2:7]\n",
    "print(len(s1))\n",
    "print(len(s1),s1[4])\n",
    "print(s1[-2:])\n",
    "print(s1[2::2])\n",
    "s1[-1::-1]\n"
   ]
  },
  {
   "cell_type": "markdown",
   "metadata": {},
   "source": [
    "# Functions with String Operations"
   ]
  },
  {
   "cell_type": "code",
   "execution_count": 2,
   "metadata": {},
   "outputs": [
    {
     "data": {
      "text/plain": [
       "'nohtyp'"
      ]
     },
     "execution_count": 2,
     "metadata": {},
     "output_type": "execute_result"
    }
   ],
   "source": [
    "#reverse the string\n",
    "def reverseStr(s):\n",
    "    return s[-1::-1]\n",
    "reverseStr('python')"
   ]
  },
  {
   "cell_type": "code",
   "execution_count": 3,
   "metadata": {},
   "outputs": [
    {
     "name": "stdout",
     "output_type": "stream",
     "text": [
      "False\n",
      "True\n"
     ]
    }
   ],
   "source": [
    "#to check the given string is palindrome or not a palindrome\n",
    "def isPalindrome(s):\n",
    "    if s == s[-1::-1]:\n",
    "        return True\n",
    "    return False\n",
    "print(isPalindrome('python'))\n",
    "print(isPalindrome('ganag'))"
   ]
  },
  {
   "cell_type": "code",
   "execution_count": 9,
   "metadata": {},
   "outputs": [
    {
     "name": "stdout",
     "output_type": "stream",
     "text": [
      "J S B "
     ]
    }
   ],
   "source": [
    "#FUNCTION TO PRINT THE UPPER CASE CHARACTERS\n",
    "#example:PyThon --PT\n",
    "def upper(s):\n",
    "    for i in range(len(s)):\n",
    "        if ord(s[i]) >= 65 and ord(s[i]) <= 90:\n",
    "            print(s[i],end=' ')\n",
    "    return\n",
    "upper('Jai ShuBham')\n"
   ]
  },
  {
   "cell_type": "code",
   "execution_count": 17,
   "metadata": {},
   "outputs": [
    {
     "name": "stdout",
     "output_type": "stream",
     "text": [
      "Samecount\n",
      "Programming\n"
     ]
    }
   ],
   "source": [
    "#function to return the output as \"samecount\" or \"programing\"\n",
    "#same count -- lower and uper chars have same count\n",
    "#programming -- count of lower and upper case \n",
    "def findChartCount(s):\n",
    "    cntUpper = 0\n",
    "    cntLower = 0\n",
    "    for i in range(len(s)):\n",
    "        if ord(s[i]) >= 65 and ord(s[i]) <=90:\n",
    "            cntUpper += 1 # cntUpper =cntUpper + 1\n",
    "        elif ord(s[i]) >= 97 and ord(s[i])<=122:\n",
    "            cntLower +=1\n",
    "    if cntLower == cntUpper:\n",
    "        return \"Samecount\"\n",
    "    return \"Programming\"\n",
    "print(findChartCount('JaiSHUbhaM'))\n",
    "print(findChartCount('PYthon'))\n"
   ]
  },
  {
   "cell_type": "code",
   "execution_count": 21,
   "metadata": {},
   "outputs": [
    {
     "name": "stdout",
     "output_type": "stream",
     "text": [
      "1 1 2 3 4 4 "
     ]
    }
   ],
   "source": [
    "# Function to Extract the digits from the string \n",
    "# Example #1:\n",
    "# Input : Application89\n",
    "# output: 1 8 8 9\n",
    "def extractDigits(s):\n",
    "    for i in range(len(s)):\n",
    "        if ord(s[i]) >=48 and ord(s[i])<=57:\n",
    "            print(s[i],end=' ')\n",
    "    return\n",
    "extractDigits('jai1shubham12344')"
   ]
  },
  {
   "cell_type": "code",
   "execution_count": 28,
   "metadata": {},
   "outputs": [
    {
     "data": {
      "text/plain": [
       "26"
      ]
     },
     "execution_count": 28,
     "metadata": {},
     "output_type": "execute_result"
    }
   ],
   "source": [
    "# funtion to add the digits of the string\n",
    "# Example #1\n",
    "# Input : Appli18cation89\n",
    "# output: 26(1+8+8+9)\n",
    "def digitsum(s):\n",
    "    sum =0\n",
    "    for i in range(len(s)):\n",
    "        if ord(s[i]) >= 48 and ord(s[i]) <=57:\n",
    "            sum = sum + (ord(s[i])-48)\n",
    "    return sum\n",
    "digitsum('Appli18cation89')\n",
    " "
   ]
  },
  {
   "cell_type": "code",
   "execution_count": null,
   "metadata": {},
   "outputs": [],
   "source": []
  },
  {
   "cell_type": "code",
   "execution_count": 29,
   "metadata": {},
   "outputs": [
    {
     "name": "stdout",
     "output_type": "stream",
     "text": [
      "MADE"
     ]
    }
   ],
   "source": [
    "# function to second word in upper case\n",
    "# Example #1\n",
    "# Input : rython Made easy\n",
    "# output: MADE\n",
    "def worduppercase(s):\n",
    "    cntspace = 0\n",
    "    for i in range(len(s)):\n",
    "        if ord(s[i])==32:\n",
    "            cntspace += 1\n",
    "        if cntspace == 1:\n",
    "            if ord(s[i]) >= 65 and ord(s[i]) <=90:\n",
    "                print((s[i]),end='')\n",
    "            elif ord(s[i]) >= 97 and ord(s[i]) <=122:\n",
    "                print(chr(ord(s[i])-32),end='')\n",
    "            if cntspace ==2:\n",
    "                break\n",
    "    return\n",
    "worduppercase('Python Made Easy')\n",
    "    \n",
    "        "
   ]
  },
  {
   "cell_type": "markdown",
   "metadata": {},
   "source": [
    "## List\n",
    "\n",
    " - one of the data structure in python\n",
    " - Data structure means to store,sort and Search Options\n",
    " - It is one common data structure in python, the iterm of the list is seprated by comma and enslosed in square          bracket[]\n",
    " - exapmle\n",
    "     - list1= [1,2,3,4,5]\n",
    "     - list2= [gitam,1,86,jai,j,8]"
   ]
  },
  {
   "cell_type": "code",
   "execution_count": 30,
   "metadata": {},
   "outputs": [
    {
     "name": "stdout",
     "output_type": "stream",
     "text": [
      "<class 'list'>\n"
     ]
    }
   ],
   "source": [
    "li=[\"gitam\",1588,\"j\",88]\n",
    "print(type(li))"
   ]
  },
  {
   "cell_type": "code",
   "execution_count": 32,
   "metadata": {},
   "outputs": [
    {
     "name": "stdout",
     "output_type": "stream",
     "text": [
      "['gitam', 1588, 'j', 88]\n"
     ]
    }
   ],
   "source": [
    "li=[\"gitam\",1588,\"j\",88]\n",
    "print(li)"
   ]
  },
  {
   "cell_type": "code",
   "execution_count": 34,
   "metadata": {},
   "outputs": [
    {
     "name": "stdout",
     "output_type": "stream",
     "text": [
      "['gitam', 1588, 'j', 88]\n",
      "['gitam', 1458, 'jai', 88]\n"
     ]
    }
   ],
   "source": [
    "li=[\"gitam\",1588,\"j\",88]\n",
    "print(li)\n",
    "li[1] = 1458\n",
    "li[2] = \"jai\"\n",
    "print(li)"
   ]
  },
  {
   "cell_type": "code",
   "execution_count": 35,
   "metadata": {},
   "outputs": [
    {
     "name": "stdout",
     "output_type": "stream",
     "text": [
      "['gitam', 1588, 'j', 88]\n",
      "['gitam', 1588, 'j']\n"
     ]
    }
   ],
   "source": [
    "li=[\"gitam\",1588,\"j\",88]\n",
    "print(li)\n",
    "del li[3]\n",
    "print(li)"
   ]
  },
  {
   "cell_type": "code",
   "execution_count": 40,
   "metadata": {},
   "outputs": [
    {
     "name": "stdout",
     "output_type": "stream",
     "text": [
      "5\n",
      "[1, 2, 3, 4, 5, 1, 2, 3, 4, 5]\n",
      "True\n",
      "False\n"
     ]
    }
   ],
   "source": [
    "li=[1,2,3,4,5]\n",
    "print(len(li))\n",
    "#list repitation\n",
    "print(li * 2)\n",
    "#to know certain item is presen in the list or not\n",
    "print(4 in li)\n",
    "print(10 in li)\n"
   ]
  },
  {
   "cell_type": "code",
   "execution_count": 41,
   "metadata": {},
   "outputs": [
    {
     "name": "stdout",
     "output_type": "stream",
     "text": [
      "89\n",
      "1\n",
      "201\n",
      "40\n"
     ]
    }
   ],
   "source": [
    "li = [89,1,5,87,19]\n",
    "print(max(li)) # max no. of list\n",
    "print(min(li)) # min no. of list \n",
    "print(sum(li)) # sum of all list item\n",
    "print(sum(li)//len(li)) # Avg of list of students"
   ]
  },
  {
   "cell_type": "code",
   "execution_count": null,
   "metadata": {},
   "outputs": [],
   "source": []
  },
  {
   "cell_type": "code",
   "execution_count": 2,
   "metadata": {},
   "outputs": [
    {
     "name": "stdout",
     "output_type": "stream",
     "text": [
      "1\n",
      "19\n"
     ]
    }
   ],
   "source": [
    "def leastNumber(li):\n",
    "    li.sort()\n",
    "    return li[0]\n",
    "def genricleastnumber(li,n):\n",
    "    li.sort()\n",
    "    return li[n-1]\n",
    "li = [19,1,25,6,9,45,22]\n",
    "print(leastNumber(li))\n",
    "print(genricleastnumber(li,4))"
   ]
  },
  {
   "cell_type": "markdown",
   "metadata": {},
   "source": [
    "## File handling in python\n",
    "- file -document which conatins some imformation and resides on permanent devices\n",
    "- Different types of File--.txt,.doc,.pdf and etc...\n",
    "- Input- keyword\n",
    "- output-File system"
   ]
  },
  {
   "cell_type": "code",
   "execution_count": 4,
   "metadata": {},
   "outputs": [
    {
     "name": "stdout",
     "output_type": "stream",
     "text": [
      "file is sucessfully created and data has inserted\n"
     ]
    }
   ],
   "source": [
    "# function to create file and write some data to the file\n",
    "# mode -- w(it create a file and write some data)\n",
    "#         if the file aleardy exists with some name then it will rewrite the data\n",
    "def createFile(filename):\n",
    "    f=open(filename,'w')\n",
    "    for i in range (10):\n",
    "        f.write('this is %d line \\n' %i)\n",
    "    print('file is sucessfully created and data has inserted')\n",
    "    return\n",
    "createFile('info.txt')"
   ]
  },
  {
   "cell_type": "code",
   "execution_count": 6,
   "metadata": {},
   "outputs": [
    {
     "data": {
      "text/plain": [
       "'C:\\\\Users\\\\cse319\\\\Desktop\\\\PythonProgramming'"
      ]
     },
     "execution_count": 6,
     "metadata": {},
     "output_type": "execute_result"
    }
   ],
   "source": [
    "pwd\n"
   ]
  },
  {
   "cell_type": "code",
   "execution_count": 11,
   "metadata": {},
   "outputs": [
    {
     "name": "stdout",
     "output_type": "stream",
     "text": [
      "sucessfully completed\n"
     ]
    }
   ],
   "source": [
    "def appendMode(filename):\n",
    "    f=open(filename,'a')\n",
    "    f.write('Python programming\\n')\n",
    "    f.write('Gitam vizag\\n')\n",
    "    print('sucessfully completed')\n",
    "    return\n",
    "appendMode('info.txt')"
   ]
  },
  {
   "cell_type": "code",
   "execution_count": 17,
   "metadata": {},
   "outputs": [
    {
     "name": "stdout",
     "output_type": "stream",
     "text": [
      "this is 0 line \n",
      "this is 1 line \n",
      "this is 2 line \n",
      "this is 3 line \n",
      "this is 4 line \n",
      "this is 5 line \n",
      "this is 6 line \n",
      "this is 7 line \n",
      "this is 8 line \n",
      "this is 9 line \n",
      "Python programming\n",
      "Gitam vizag\n",
      "Python programming\n",
      "Gitam vizag\n",
      "Python programming\n",
      "Gitam vizag\n",
      "Python programming\n",
      "Gitam vizag\n",
      "\n"
     ]
    }
   ],
   "source": [
    "# function to read the file\n",
    "def readFileData(filename):\n",
    "    f=open(filename,'r')\n",
    "    if f.mode == 'r':\n",
    "        a = f.read()\n",
    "        print(a)\n",
    "    f.close()\n",
    "    return\n",
    "readFileData('info.txt')    \n",
    "    \n",
    "    "
   ]
  },
  {
   "cell_type": "code",
   "execution_count": 19,
   "metadata": {},
   "outputs": [
    {
     "name": "stdout",
     "output_type": "stream",
     "text": [
      "['python', 'programming']\n"
     ]
    }
   ],
   "source": [
    "# Analysis on the file -- Word count, char count, digit count\n",
    "s1 = \"python programming\"\n",
    "print(s1.split())"
   ]
  },
  {
   "cell_type": "code",
   "execution_count": 20,
   "metadata": {},
   "outputs": [
    {
     "data": {
      "text/plain": [
       "56"
      ]
     },
     "execution_count": 20,
     "metadata": {},
     "output_type": "execute_result"
    }
   ],
   "source": [
    "#word count\n",
    "def wordcount(filename):\n",
    "    with open(filename,'r')as f:\n",
    "        if f.mode == 'r':\n",
    "            a=f.read()\n",
    "            li=a.split()\n",
    "    return len(li)\n",
    "wordcount('info.txt')\n",
    "            "
   ]
  },
  {
   "cell_type": "code",
   "execution_count": 29,
   "metadata": {},
   "outputs": [
    {
     "data": {
      "text/plain": [
       "10"
      ]
     },
     "execution_count": 29,
     "metadata": {},
     "output_type": "execute_result"
    }
   ],
   "source": [
    "#specfic word count from the file \n",
    "#Example 1\n",
    "#input -- this \n",
    "#output -- 10\n",
    "\n",
    "#Example 2\n",
    "#input -- gitam\n",
    "#output -- 1\n",
    "\n",
    "def sepwordcount(filename,word):\n",
    "    with open(filename,'r')as f:\n",
    "        if f.mode == 'r':\n",
    "            a=f.read()\n",
    "            li=a.split()\n",
    "    return li.count(word)\n",
    "sepwordcount('info.txt', 'this')\n",
    "            "
   ]
  },
  {
   "cell_type": "code",
   "execution_count": 37,
   "metadata": {},
   "outputs": [
    {
     "data": {
      "text/plain": [
       "284"
      ]
     },
     "execution_count": 37,
     "metadata": {},
     "output_type": "execute_result"
    }
   ],
   "source": [
    "#function to find the character count from the input file\n",
    "def charcount(filename):\n",
    "    with open(filename,\"r\") as f:\n",
    "        if f.mode == \"r\":\n",
    "            a = f.read()\n",
    "            li=list(a)\n",
    "    return len(li)\n",
    "charcount('info.txt')\n",
    "    "
   ]
  },
  {
   "cell_type": "code",
   "execution_count": null,
   "metadata": {},
   "outputs": [],
   "source": [
    "def casecount(filename):\n",
    "    cntUpper = 0\n",
    "    cntLower = 0\n",
    "    cntDigit = 0\n",
    "    with open(filename,\"r\") as f:\n",
    "        if f.mode == \"r\":\n",
    "            a = f.read()\n",
    "            li=list(a)\n",
    "    for i in ramge(len(li)):\n",
    "        if ord(s[i]) >= 65 and ord(s[i]) <=90:\n",
    "            cntUpper += 1\n",
    "        elif ord(s[i]) >= 97 and ord(s[i]) <=122:\n",
    "            cntLower += 1\n",
    "        elif ord(s[i]) >= 48 and ord(s[i]) <=57:\n",
    "            cntDigit += 1"
   ]
  },
  {
   "cell_type": "code",
   "execution_count": 39,
   "metadata": {},
   "outputs": [
    {
     "name": "stdout",
     "output_type": "stream",
     "text": [
      "[89, 1, 5, 87]\n"
     ]
    }
   ],
   "source": [
    "li = [89,1,5,87,19]\n",
    "print(li[:-1])"
   ]
  },
  {
   "cell_type": "code",
   "execution_count": 40,
   "metadata": {},
   "outputs": [
    {
     "name": "stdout",
     "output_type": "stream",
     "text": [
      "3\n"
     ]
    }
   ],
   "source": [
    "str='abababadaadbbaccabc' \n",
    "print (str.count('ab',-17,-1))"
   ]
  }
 ],
 "metadata": {
  "kernelspec": {
   "display_name": "Python 3",
   "language": "python",
   "name": "python3"
  },
  "language_info": {
   "codemirror_mode": {
    "name": "ipython",
    "version": 3
   },
   "file_extension": ".py",
   "mimetype": "text/x-python",
   "name": "python",
   "nbconvert_exporter": "python",
   "pygments_lexer": "ipython3",
   "version": "3.7.3"
  }
 },
 "nbformat": 4,
 "nbformat_minor": 2
}
